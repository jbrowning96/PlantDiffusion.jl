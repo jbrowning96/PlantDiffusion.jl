{
 "cells": [
  {
   "cell_type": "markdown",
   "metadata": {},
   "source": [
    "# Gray - Scott Model of Reaction - Diffusion\n",
    "\n",
    "A Reaction-Diffusion Model is a mathematical model which generally describes the interdependent interaction between objects in time and space. They are often used in chemistry to simulate the interaction between various chemical interactions in a given space. The Gray - Scott Model is one such reaction diffusion model.\n",
    "\n",
    "In the discretized form, the Gray- Scott model is described by a system of differential equations given in the Euler scheme by,\n",
    "$$ A' = A + (D_A \\nabla^2 A - AB^2 + f(1-a))\\delta t $$\n",
    "$$ B' = B + (D_B \\nabla^2 B - AB^2 - (k+f)B)\\delta t $$\n",
    "\n",
    "where $A, B$ are the associated substances reacting with one another, $D_A$ is the diffusion coefficient of $A$, $D_B$ is the diffusion coefficient of $B$, $f$ is the feed rate of $A$, $k$ is the kill rate of $B$.\n",
    "\n"
   ]
  },
  {
   "cell_type": "code",
   "execution_count": null,
   "metadata": {},
   "outputs": [],
   "source": [
    "# Packages Used: gray_scott.jl"
   ]
  },
  {
   "cell_type": "markdown",
   "metadata": {},
   "source": []
  },
  {
   "cell_type": "code",
   "execution_count": null,
   "metadata": {},
   "outputs": [],
   "source": []
  }
 ],
 "metadata": {
  "kernelspec": {
   "display_name": "Julia 1.5.3",
   "language": "julia",
   "name": "julia-1.5"
  },
  "language_info": {
   "file_extension": ".jl",
   "mimetype": "application/julia",
   "name": "julia",
   "version": "1.5.3"
  },
  "orig_nbformat": 4
 },
 "nbformat": 4,
 "nbformat_minor": 2
}
