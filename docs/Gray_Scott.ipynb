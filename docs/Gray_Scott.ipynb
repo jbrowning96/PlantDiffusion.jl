{
 "cells": [
  {
   "cell_type": "markdown",
   "metadata": {},
   "source": [
    "# Gray - Scott Model of Reaction - Diffusion\n",
    "\n",
    "A Reaction-Diffusion Model is a mathematical model which generally describes the interdependent interaction between objects in time and space. They are often used in chemistry to simulate the interaction between various chemical interactions in a given space. The Gray - Scott Model is one such reaction diffusion model.\n",
    "\n",
    "The system in continuous form is described by the system of differential equations,\n",
    "$$ \\frac{\\partial u}{\\partial t} = D_u \\nabla^2 u - uv^2 + f(1-u)$$\n",
    "$$ \\frac{\\partial v}{\\partial t} = D_v \\nabla^2 v - uv^2 - (f+k)v$$\n",
    "\n",
    "where $u, v$ are the associated substance spaces in euclidian space reacting with one another, $D_u$ is the diffusion coefficient of $u$, $D_v$ is the diffusion coefficient of $v$, $f$ is the feed rate of $u$, $k$ is the kill rate of $v$. $\\nabla^2$ describes the laplacian of $u$ and $v$.\n",
    "\n",
    "In the discretized form this looks like, \n",
    "$$ A' = A + (D_A \\nabla^2 A - AB^2 + f(1-a))\\Delta t $$\n",
    "$$ B' = B + (D_B \\nabla^2 B - AB^2 - (k+f)B)\\Delta t $$\n",
    "\n",
    "where $A$ and $B$ are the two substances in discretized space, $\\Delta t$ is the discrete time step interval, and $\\nabla^2$ describes the laplacian of $A$ and $B$. \n",
    "\n",
    "You can think of $\\nabla^2$ being the $f$ in $f(x)$ but in this case, it would be $\\nabla^2(x)$. Be careful here, because this isn't the gradient function $\\nabla(x)$ squared, $\\nabla^2$ is notation to describe the laplace operator, which is a function used to describe the divergence of the gradient of a scalar function in Euclidian space.\n",
    "\n",
    "\n"
   ]
  },
  {
   "cell_type": "code",
   "execution_count": null,
   "metadata": {},
   "outputs": [],
   "source": [
    "# Packages Used: gray_scott.jl"
   ]
  },
  {
   "cell_type": "markdown",
   "metadata": {},
   "source": [
    "## Initalization"
   ]
  },
  {
   "cell_type": "code",
   "execution_count": null,
   "metadata": {},
   "outputs": [],
   "source": [
    "function init(n)\n",
    "\n",
    "    u = ones((n+2, n+2));\n",
    "    v = zeros((n+2, n+2));\n",
    "\n",
    "    X_Mesh = (0:(n+1))' .* ones(n+2)/(n+1);\n",
    "    Y_Mesh = (ones(n+2)/(n+1))' .* (0:(n+1));\n",
    "    \n",
    "    for i ∈ 1:n+2, j ∈ 1:n+2\n",
    "        if X_Mesh[i,j] > 0.4 && X_Mesh[i,j] < 0.6 && Y_Mesh[i,j] > 0.4 && Y_Mesh[i,j] < 0.6\n",
    "            u[i,j] = 0.5;\n",
    "            v[i,j] = 0.25;\n",
    "        end\n",
    "    end\n",
    "\n",
    "    return u, v;\n",
    "end"
   ]
  },
  {
   "cell_type": "markdown",
   "metadata": {},
   "source": [
    "## Laplacian "
   ]
  },
  {
   "cell_type": "code",
   "execution_count": null,
   "metadata": {},
   "outputs": [],
   "source": [
    "function laplacian(u,n)\n",
    "\n",
    "    # Second Order Finite Difference\n",
    "    laplacian = zeros(n,n);\n",
    "\n",
    "    for i ∈ 2:n+1, j ∈ 2:n+1\n",
    "        laplacian[i-1,j-1] = u[i-1,j] + u[i+1,j] + u[i,j-1] + u[i,j+1] - (4 * u[i,j])\n",
    "    end\n",
    "\n",
    "    return laplacian;\n",
    "end"
   ]
  },
  {
   "cell_type": "markdown",
   "metadata": {},
   "source": [
    "## Boundary Conditions"
   ]
  },
  {
   "cell_type": "code",
   "execution_count": null,
   "metadata": {},
   "outputs": [],
   "source": [
    "function periodic_bc(u)\n",
    "    # Periodic Boundary Conditions\n",
    "    u[1,:] = u[end-1,:]\n",
    "    u[end,:] = u[2,:]\n",
    "    u[:,1] = u[:,end-1]\n",
    "    u[:,end] = u[:,2]\n",
    "end"
   ]
  },
  {
   "cell_type": "markdown",
   "metadata": {},
   "source": [
    "## Gray-Scott Algorithm"
   ]
  },
  {
   "cell_type": "code",
   "execution_count": null,
   "metadata": {},
   "outputs": [],
   "source": [
    "function gray_scott(U, V, Du, Dv, f, k)\n",
    "    u, v = U[2:end-1, 2:end-1], V[2:end-1, 2:end-1];\n",
    "\n",
    "    ∇²U = laplacian(U, n);\n",
    "    ∇²V = laplacian(V, n);\n",
    "\n",
    "    uv² = u .* v.^2;\n",
    "    u += Du*∇²U .- uv² .+ f*(1 .- u);\n",
    "    v += Dv*∇²V .+ uv² .- (f+k)*v;\n",
    "\n",
    "    U[2:end-1,2:end-1] = u;\n",
    "    V[2:end-1,2:end-1] = v;\n",
    "\n",
    "    periodic_bc(U);\n",
    "    periodic_bc(V);\n",
    "\n",
    "    return U, V;\n",
    "end"
   ]
  },
  {
   "cell_type": "markdown",
   "metadata": {},
   "source": [
    "## Simulation and Visualization"
   ]
  },
  {
   "cell_type": "code",
   "execution_count": null,
   "metadata": {},
   "outputs": [],
   "source": [
    "include(\"gray_scott.jl\")\n",
    "\n",
    "function main()\n",
    "\n",
    "    #Constants:\n",
    "    f = 0.0545;\n",
    "    k = 0.6200;\n",
    "    Du = .1;\n",
    "    Dv = .05;\n",
    "    n = 10;\n",
    "    time_start = 1;\n",
    "    time_end = 100;\n",
    "    \n",
    "    U, V = init(n);\n",
    "\n",
    "    for time in time_start:time_end\n",
    "        U, V = gray_scott(U, V, Du, Dv, f, k, n);\n",
    "    end\n",
    "\n",
    "end\n",
    "\n",
    "main()"
   ]
  }
 ],
 "metadata": {
  "kernelspec": {
   "display_name": "Julia 1.5.3",
   "language": "julia",
   "name": "julia-1.5"
  },
  "language_info": {
   "file_extension": ".jl",
   "mimetype": "application/julia",
   "name": "julia",
   "version": "1.5.3"
  },
  "orig_nbformat": 4
 },
 "nbformat": 4,
 "nbformat_minor": 2
}
