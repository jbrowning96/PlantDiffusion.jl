{
 "cells": [
  {
   "cell_type": "markdown",
   "metadata": {},
   "source": [
    "# Gray - Scott Model of Reaction - Diffusion\n",
    "\n",
    "A Reaction-Diffusion Model is a mathematical model which generally describes the interdependent interaction between objects in time and space. They are often used in chemistry to simulate the interaction between various chemical interactions in a given space. The Gray - Scott Model is one such reaction diffusion model.\n",
    "\n",
    "The system in continuous form is described by the system of differential equations,\n",
    "$$ \\frac{\\partial u}{\\partial t} = D_u \\nabla^2 u - uv^2 + f(1-u)$$\n",
    "$$ \\frac{\\partial v}{\\partial t} = D_v \\nabla^2 v - uv^2 - (f+k)v$$\n",
    "\n",
    "where $u, v$ are the associated substance spaces in euclidian space reacting with one another, $D_u$ is the diffusion coefficient of $u$, $D_v$ is the diffusion coefficient of $v$, $f$ is the feed rate of $u$, $k$ is the kill rate of $v$. $\\nabla^2$ describes the laplacian of $u$ and $v$.\n",
    "\n",
    "In the discretized form this looks like, \n",
    "$$ A' = A + (D_A \\nabla^2 A - AB^2 + f(1-a))\\Delta t $$\n",
    "$$ B' = B + (D_B \\nabla^2 B - AB^2 - (k+f)B)\\Delta t $$\n",
    "\n",
    "where $A$ and $B$ are the two substances in discretized space, $\\Delta t$ is the discrete time step interval, and $\\nabla^2$ describes the laplacian of $A$ and $B$. \n",
    "\n",
    "You can think of $\\nabla^2$ being the $f$ in $f(x)$ but in this case, it would be $\\nabla^2(x)$. Be careful here, because this isn't the gradient function $\\nabla(x)$ squared, $\\nabla^2$ is notation to describe the laplace operator, which is a function used to describe the divergence of the gradient of a scalar function in Euclidian space.\n",
    "\n",
    "\n"
   ]
  },
  {
   "cell_type": "code",
   "execution_count": null,
   "metadata": {},
   "outputs": [],
   "source": [
    "# Packages Used: gray_scott.jl"
   ]
  },
  {
   "cell_type": "markdown",
   "metadata": {},
   "source": [
    "## Laplacian "
   ]
  },
  {
   "cell_type": "code",
   "execution_count": null,
   "metadata": {},
   "outputs": [],
   "source": [
    "function laplacian(u)\n",
    "    # Second Order Finite Difference \n",
    "    laplacian = zeros(10,10);\n",
    "\n",
    "    for i in 2:11, j in 2:11\n",
    "        laplacian[i-1,j-1] = u[i+1,j] + u[i-1,j] + u[i,j+1] + u[i,j-1] - 4*u[i,j]\n",
    "    end\n",
    "\n",
    "    return laplacian;\n",
    "end"
   ]
  },
  {
   "cell_type": "markdown",
   "metadata": {},
   "source": [
    "## Boundary Conditions"
   ]
  },
  {
   "cell_type": "code",
   "execution_count": null,
   "metadata": {},
   "outputs": [],
   "source": [
    "function periodic_bc(u)\n",
    "    # Periodic Boundary Conditions\n",
    "    u[1,:] = u[end-1,:]\n",
    "    u[end,:] = u[2,:]\n",
    "    u[:,1] = u[:,end-1]\n",
    "    u[:,end] = u[:,2]\n",
    "end"
   ]
  },
  {
   "cell_type": "markdown",
   "metadata": {},
   "source": [
    "## Gray-Scott Algorithm"
   ]
  },
  {
   "cell_type": "code",
   "execution_count": null,
   "metadata": {},
   "outputs": [],
   "source": [
    "function gray_scott(U, V, Du, Dv, f, k)\n",
    "    #=\n",
    "    U - 'Chemical A' array \n",
    "    V - 'Chemical B' array\n",
    "    Du - Diffusion Rate of A\n",
    "    Dv - Diffusion Rate of B\n",
    "    f - Feed Rate of A\n",
    "    k - Kill Rate of B\n",
    "\n",
    "    The formulas are given as follows:\n",
    "\n",
    "    ∂u/∂t = Du∇²u - uv² + f(1-u)\n",
    "    ∂v/∂t = Dv∇²v + uv² - (f+k)v\n",
    "\n",
    "    where ∇² is the Laplacian operator, numerically approximated using \n",
    "    the second finite difference.\n",
    "    =# \n",
    "\n",
    "    u, v = U[2:end-1, 2:end-1], V[2:end-1, 2:end-1];\n",
    "    print(\"(u, v): Import of U and V || \")\n",
    "    log(u, v);\n",
    "\n",
    "    Lu = laplacian(U);\n",
    "    Lv = laplacian(V);\n",
    "\n",
    "    print(\"(Lu, Lv): Laplacian of U and V || \")\n",
    "    log(Lu, Lv);\n",
    "\n",
    "    uv² = u.*v.^2;\n",
    "    u += Du*Lu - uv² .+ f*(1-u);\n",
    "    v += Dv*Lv + uv² .- (f+k)*v;\n",
    "\n",
    "    print(\"(u, v): After operations are applied to u and v || \")\n",
    "    log(u, v);\n",
    "    \n",
    "    print('\\n')\n",
    "    print(\"(U, V): After operations are applied to U and V || \")\n",
    "    log(U, V);\n",
    "\n",
    "    periodic_bc(U);\n",
    "    periodic_bc(V);\n",
    "\n",
    "    print(\"(U, V): After periodic_bc is applied to U and V || \")\n",
    "    log(U, V);\n",
    "\n",
    "    return U, V;\n",
    "end"
   ]
  },
  {
   "cell_type": "markdown",
   "metadata": {},
   "source": [
    "## Initalization"
   ]
  },
  {
   "cell_type": "code",
   "execution_count": null,
   "metadata": {},
   "outputs": [],
   "source": []
  },
  {
   "cell_type": "markdown",
   "metadata": {},
   "source": [
    "## Simulation and Visualization"
   ]
  },
  {
   "cell_type": "code",
   "execution_count": null,
   "metadata": {},
   "outputs": [],
   "source": []
  }
 ],
 "metadata": {
  "kernelspec": {
   "display_name": "Julia 1.5.3",
   "language": "julia",
   "name": "julia-1.5"
  },
  "language_info": {
   "file_extension": ".jl",
   "mimetype": "application/julia",
   "name": "julia",
   "version": "1.5.3"
  },
  "orig_nbformat": 4
 },
 "nbformat": 4,
 "nbformat_minor": 2
}
